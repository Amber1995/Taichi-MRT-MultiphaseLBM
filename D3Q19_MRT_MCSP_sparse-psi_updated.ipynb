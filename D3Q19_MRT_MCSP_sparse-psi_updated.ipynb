{
 "cells": [
  {
   "cell_type": "code",
   "execution_count": 1,
   "id": "a25e9610",
   "metadata": {
    "scrolled": false
   },
   "outputs": [
    {
     "name": "stdout",
     "output_type": "stream",
     "text": [
      "[Taichi] version 1.1.3, llvm 10.0.0, commit 1262a70a, linux, python 3.10.9\n"
     ]
    },
    {
     "name": "stderr",
     "output_type": "stream",
     "text": [
      "Error: Can not import avx core while this file exists: /home/amber/.local/lib/python3.10/site-packages/paddle/fluid/core_avx.so\n"
     ]
    },
    {
     "name": "stdout",
     "output_type": "stream",
     "text": [
      "[I 01/24/23 16:12:34.863 37573] [shell.py:_shell_pop_print@33] Graphical python shell detected, using wrapped sys.stdout\n",
      "[Taichi] Starting on arch=x64\n"
     ]
    },
    {
     "data": {
      "application/javascript": [
       "\n",
       "            setTimeout(function() {\n",
       "                var nbb_cell_id = 1;\n",
       "                var nbb_unformatted_code = \"# import subprocess\\n# subprocess.call(['sh', './install_packages.sh'])\\nimport taichi as ti\\nimport numpy as np\\nimport math\\nfrom sympy import inverse_mellin_transform\\nfrom pyevtk.hl import gridToVTK\\nimport pandas as pd\\nimport vtk\\nimport time\\nimport LBM_parameters as lbm\\nimport json\\nimport LBM_solver as LBM\\n\\n%load_ext nb_black\\nti.init(arch=ti.cpu, dynamic_index=False)\\n# ti.init(arch=ti.cpu,cpu_max_num_threads=32, dynamic_index=False)\\n\\n\\\"\\\"\\\"Default setting\\\"\\\"\\\"\\n# LBM parameters\\nQ = 19\\ndim = 3\\n\\n# Adhesion and cohesion parameters\\nG_1s = -0.4\\nG_12 = 4.0\\nG_2s = -G_1s\\nG_11 = 0\\nG_22 = 0\\n\\n# Viscosity and initial density\\nniu_1 = 0.2\\nniu_2 = 0.2\\nrhos = 3\\nrho_2 = 2\\nrho_1 = 2\\n\\ntau_1f, tau_2f, S_dig_np_1, S_dig_np_2 = lbm.update_S(niu_1, niu_2)\\n\\n# Injection control\\ninject_period = 100\\ndensity_increment = 0.0\\n\\n# Pressure and pseudo density\\nIniPerturbRate = 1\\ncarn_star = False  # if True, the fluid(s) has multiphase\\nT_Tc = 0.7\\nrhol_spinodal = 0.2724\\nrhog_spinodal = 0.0484\\n\\n# Output frequency\\nvtk_dstep = 50\\nstat_dstep = 50\\nvtk_path = \\\"./vtks\\\"\\nnb_steps = 1000\\n\\n# Dimension\\nlx = ly = lz = 100\\n\\n# Input files\\nsolid_np = np.zeros((lx, ly, lz), dtype=np.int8)\\nnb_solid = 0\\n\\n# Operator type:\\nMRT = True\\n\\n# Multicomponent or singlecomponent\\nMC = False\\n\\n# Allocation of sparse memory\\nsparse = True\";\n",
       "                var nbb_formatted_code = \"# import subprocess\\n# subprocess.call(['sh', './install_packages.sh'])\\nimport taichi as ti\\nimport numpy as np\\nimport math\\nfrom sympy import inverse_mellin_transform\\nfrom pyevtk.hl import gridToVTK\\nimport pandas as pd\\nimport vtk\\nimport time\\nimport LBM_parameters as lbm\\nimport json\\nimport LBM_solver as LBM\\n\\n%load_ext nb_black\\nti.init(arch=ti.cpu, dynamic_index=False)\\n# ti.init(arch=ti.cpu,cpu_max_num_threads=32, dynamic_index=False)\\n\\n\\\"\\\"\\\"Default setting\\\"\\\"\\\"\\n# LBM parameters\\nQ = 19\\ndim = 3\\n\\n# Adhesion and cohesion parameters\\nG_1s = -0.4\\nG_12 = 4.0\\nG_2s = -G_1s\\nG_11 = 0\\nG_22 = 0\\n\\n# Viscosity and initial density\\nniu_1 = 0.2\\nniu_2 = 0.2\\nrhos = 3\\nrho_2 = 2\\nrho_1 = 2\\n\\ntau_1f, tau_2f, S_dig_np_1, S_dig_np_2 = lbm.update_S(niu_1, niu_2)\\n\\n# Injection control\\ninject_period = 100\\ndensity_increment = 0.0\\n\\n# Pressure and pseudo density\\nIniPerturbRate = 1\\ncarn_star = False  # if True, the fluid(s) has multiphase\\nT_Tc = 0.7\\nrhol_spinodal = 0.2724\\nrhog_spinodal = 0.0484\\n\\n# Output frequency\\nvtk_dstep = 50\\nstat_dstep = 50\\nvtk_path = \\\"./vtks\\\"\\nnb_steps = 1000\\n\\n# Dimension\\nlx = ly = lz = 100\\n\\n# Input files\\nsolid_np = np.zeros((lx, ly, lz), dtype=np.int8)\\nnb_solid = 0\\n\\n# Operator type:\\nMRT = True\\n\\n# Multicomponent or singlecomponent\\nMC = False\\n\\n# Allocation of sparse memory\\nsparse = True\";\n",
       "                var nbb_cells = Jupyter.notebook.get_cells();\n",
       "                for (var i = 0; i < nbb_cells.length; ++i) {\n",
       "                    if (nbb_cells[i].input_prompt_number == nbb_cell_id) {\n",
       "                        if (nbb_cells[i].get_text() == nbb_unformatted_code) {\n",
       "                             nbb_cells[i].set_text(nbb_formatted_code);\n",
       "                        }\n",
       "                        break;\n",
       "                    }\n",
       "                }\n",
       "            }, 500);\n",
       "            "
      ],
      "text/plain": [
       "<IPython.core.display.Javascript object>"
      ]
     },
     "metadata": {},
     "output_type": "display_data"
    }
   ],
   "source": [
    "# import subprocess\n",
    "# subprocess.call(['sh', './install_packages.sh'])\n",
    "import taichi as ti\n",
    "import numpy as np\n",
    "import math\n",
    "from sympy import inverse_mellin_transform\n",
    "from pyevtk.hl import gridToVTK\n",
    "import pandas as pd\n",
    "import vtk\n",
    "import time\n",
    "import LBM_parameters as lbm\n",
    "import json\n",
    "import LBM_solver as LBM\n",
    "\n",
    "%load_ext nb_black\n",
    "ti.init(arch=ti.cpu, dynamic_index=False)\n",
    "# ti.init(arch=ti.cpu,cpu_max_num_threads=32, dynamic_index=False)\n",
    "\n",
    "\"\"\"Default setting\"\"\"\n",
    "# LBM parameters\n",
    "Q = 19\n",
    "dim = 3\n",
    "\n",
    "# Adhesion and cohesion parameters\n",
    "G_1s = -0.4\n",
    "G_12 = 4.0\n",
    "G_2s = -G_1s\n",
    "G_11 = 0\n",
    "G_22 = 0\n",
    "\n",
    "# Viscosity and initial density\n",
    "niu_1 = 0.2\n",
    "niu_2 = 0.2\n",
    "rhos = 3\n",
    "rho_2 = 2\n",
    "rho_1 = 2\n",
    "\n",
    "tau_1f, tau_2f, S_dig_np_1, S_dig_np_2 = lbm.update_S(niu_1, niu_2)\n",
    "\n",
    "# Injection control\n",
    "inject_period = 100\n",
    "density_increment = 0.0\n",
    "\n",
    "# Pressure and pseudo density\n",
    "IniPerturbRate = 1\n",
    "carn_star = False  # if True, the fluid(s) has multiphase\n",
    "T_Tc = 0.7\n",
    "rhol_spinodal = 0.2724\n",
    "rhog_spinodal = 0.0484\n",
    "\n",
    "# Output frequency\n",
    "vtk_dstep = 50\n",
    "stat_dstep = 50\n",
    "vtk_path = \"./vtks\"\n",
    "nb_steps = 1000\n",
    "\n",
    "# Dimension\n",
    "lx = ly = lz = 100\n",
    "\n",
    "# Input files\n",
    "solid_np = np.zeros((lx, ly, lz), dtype=np.int8)\n",
    "nb_solid = 0\n",
    "\n",
    "# Operator type:\n",
    "MRT = True\n",
    "\n",
    "# Multicomponent or singlecomponent\n",
    "MC = False\n",
    "\n",
    "# Allocation of sparse memory\n",
    "sparse = True"
   ]
  },
  {
   "cell_type": "code",
   "execution_count": 2,
   "id": "f8be1bf4",
   "metadata": {
    "scrolled": false
   },
   "outputs": [
    {
     "ename": "FileNotFoundError",
     "evalue": "[Errno 2] No such file or directory: './mcmp.json'",
     "output_type": "error",
     "traceback": [
      "\u001b[0;31m---------------------------------------------------------------------------\u001b[0m",
      "\u001b[0;31mFileNotFoundError\u001b[0m                         Traceback (most recent call last)",
      "Input \u001b[0;32mIn [2]\u001b[0m, in \u001b[0;36m<module>\u001b[0;34m\u001b[0m\n\u001b[0;32m----> 1\u001b[0m \u001b[43mLBM\u001b[49m\u001b[38;5;241;43m.\u001b[39;49m\u001b[43mread_json\u001b[49m\u001b[43m(\u001b[49m\u001b[38;5;124;43m\"\u001b[39;49m\u001b[38;5;124;43m./mcmp.json\u001b[39;49m\u001b[38;5;124;43m\"\u001b[39;49m\u001b[43m)\u001b[49m\n\u001b[1;32m      2\u001b[0m \u001b[38;5;66;03m# LBM.read_json(\"./input_MRT_MCSP\")\u001b[39;00m\n\u001b[1;32m      4\u001b[0m \u001b[38;5;28mprint\u001b[39m(LBM\u001b[38;5;241m.\u001b[39mrho_1, LBM\u001b[38;5;241m.\u001b[39mrho_2, LBM\u001b[38;5;241m.\u001b[39mrhos)\n",
      "File \u001b[0;32m~/Documents/2d-lbm-dem-analysis/multiphase_lbm-study/taichi/MPMC/3D_MP_solver/psi_updated/LBM_solver.py:34\u001b[0m, in \u001b[0;36mread_json\u001b[0;34m(json_file)\u001b[0m\n\u001b[1;32m     31\u001b[0m \u001b[38;5;28;01mglobal\u001b[39;00m Q,dim,inject_period,density_increment,carn_star,T_Tc,G_11,G_22,MC,G\n\u001b[1;32m     32\u001b[0m \u001b[38;5;28;01mglobal\u001b[39;00m vtk_dstep,stat_dstep,nb_steps,vtk_path,sparse,MRT,rhol_spinodal,rhog_spinodal\n\u001b[0;32m---> 34\u001b[0m \u001b[38;5;28;01mwith\u001b[39;00m \u001b[38;5;28;43mopen\u001b[39;49m\u001b[43m(\u001b[49m\u001b[43mjson_file\u001b[49m\u001b[43m,\u001b[49m\u001b[43m \u001b[49m\u001b[38;5;124;43m'\u001b[39;49m\u001b[38;5;124;43mr\u001b[39;49m\u001b[38;5;124;43m'\u001b[39;49m\u001b[43m)\u001b[49m \u001b[38;5;28;01mas\u001b[39;00m openfile:\n\u001b[1;32m     35\u001b[0m     data \u001b[38;5;241m=\u001b[39m json\u001b[38;5;241m.\u001b[39mload(openfile)\n\u001b[1;32m     37\u001b[0m lx \u001b[38;5;241m=\u001b[39m data[\u001b[38;5;124m'\u001b[39m\u001b[38;5;124msize\u001b[39m\u001b[38;5;124m'\u001b[39m][\u001b[38;5;124m'\u001b[39m\u001b[38;5;124mlx\u001b[39m\u001b[38;5;124m'\u001b[39m]\n",
      "\u001b[0;31mFileNotFoundError\u001b[0m: [Errno 2] No such file or directory: './mcmp.json'"
     ]
    },
    {
     "data": {
      "application/javascript": [
       "\n",
       "            setTimeout(function() {\n",
       "                var nbb_cell_id = 2;\n",
       "                var nbb_unformatted_code = \"LBM.read_json(\\\"./mcmp.json\\\")\\n# LBM.read_json(\\\"./input_MRT_MCSP\\\")\\n\\nprint(LBM.rho_1, LBM.rho_2, LBM.rhos)\";\n",
       "                var nbb_formatted_code = \"LBM.read_json(\\\"./mcmp.json\\\")\\n# LBM.read_json(\\\"./input_MRT_MCSP\\\")\\n\\nprint(LBM.rho_1, LBM.rho_2, LBM.rhos)\";\n",
       "                var nbb_cells = Jupyter.notebook.get_cells();\n",
       "                for (var i = 0; i < nbb_cells.length; ++i) {\n",
       "                    if (nbb_cells[i].input_prompt_number == nbb_cell_id) {\n",
       "                        if (nbb_cells[i].get_text() == nbb_unformatted_code) {\n",
       "                             nbb_cells[i].set_text(nbb_formatted_code);\n",
       "                        }\n",
       "                        break;\n",
       "                    }\n",
       "                }\n",
       "            }, 500);\n",
       "            "
      ],
      "text/plain": [
       "<IPython.core.display.Javascript object>"
      ]
     },
     "metadata": {},
     "output_type": "display_data"
    }
   ],
   "source": [
    "LBM.read_json(\"./mcmp.json\")\n",
    "# LBM.read_json(\"./input_MRT_MCSP\")\n",
    "\n",
    "print(LBM.rho_1, LBM.rho_2, LBM.rhos)"
   ]
  },
  {
   "cell_type": "code",
   "execution_count": null,
   "id": "316ad9f1",
   "metadata": {},
   "outputs": [],
   "source": [
    "for x in range(LBM.lx):\n",
    "    for y in range(LBM.ly):\n",
    "        LBM.solid_np[x][y][LBM.lz - 1] = 1\n",
    "        LBM.solid_np[x][y][0] = 1\n",
    "LBM.nb_solid = np.count_nonzero(LBM.solid_np)"
   ]
  },
  {
   "cell_type": "code",
   "execution_count": null,
   "id": "2d32c75b",
   "metadata": {
    "scrolled": true
   },
   "outputs": [],
   "source": [
    "if LBM.MC:\n",
    "    lbm_solver = LBM.D3Q19_MC(sparse_mem=sparse)\n",
    "else:\n",
    "    print(\"Run single-compont solver\")\n",
    "    lbm_solver = LBM.D3Q19_SC(sparse_mem=sparse)\n",
    "\n",
    "lbm_solver.init_field()\n",
    "\n",
    "if LBM.MC:\n",
    "    print(\"{} fluid nodes have been activated!\".format(lbm_solver.activity_checking()))\n",
    "    print(\n",
    "        \"{} fluid nodes in the computational domain!\".format(\n",
    "            LBM.lx * LBM.ly * LBM.lz - LBM.nb_solid\n",
    "        )\n",
    "    )"
   ]
  },
  {
   "cell_type": "code",
   "execution_count": null,
   "id": "50e33344",
   "metadata": {
    "scrolled": false
   },
   "outputs": [],
   "source": [
    "# begin = time.time()\n",
    "# nb_liq_nodes = lbm_solver.place_fluid_sphere(50, 50, 15, 16, 7.8)\n",
    "lbm_solver.run(LBM.nb_steps)\n",
    "# print(\"Time elapses for 100 steps using non-sparse memory is \", time.time() - begin)"
   ]
  },
  {
   "cell_type": "code",
   "execution_count": null,
   "id": "b883f42e",
   "metadata": {},
   "outputs": [],
   "source": [
    "G = -1\n",
    "T_Tc = 0.7\n",
    "\n",
    "\n",
    "def Press(rho_value):\n",
    "    #     a = 1.0\n",
    "    #     b = 4.0\n",
    "    #     R = 1.0\n",
    "    #     Tc = 0.0943\n",
    "\n",
    "    a = 0.09926\n",
    "    b = 0.18727\n",
    "    R = 0.2\n",
    "    Tc = 1.0\n",
    "\n",
    "    T = T_Tc * Tc\n",
    "    eta = b * rho_value / 4.0\n",
    "    eta2 = eta * eta\n",
    "    eta3 = eta2 * eta\n",
    "    rho2 = rho_value * rho_value\n",
    "    one_minus_eta = 1.0 - eta\n",
    "    one_minus_eta3 = one_minus_eta * one_minus_eta * one_minus_eta\n",
    "    return rho_value * R * T * (1 + eta + eta2 - eta3) / one_minus_eta3 - a * rho2\n",
    "\n",
    "\n",
    "def Psi(rho_value):\n",
    "    cs2 = 1.0 / 3.0\n",
    "    p = Press(rho_value)\n",
    "    return np.sqrt(-2.0 * (p - cs2 * rho_value) / cs2)\n",
    "\n",
    "\n",
    "print(Psi(7) / 4.0149)"
   ]
  },
  {
   "cell_type": "code",
   "execution_count": null,
   "id": "4dbfa4bd",
   "metadata": {},
   "outputs": [],
   "source": [
    "import matplotlib.pyplot as plt\n",
    "\n",
    "rho_s = 0.4\n",
    "\n",
    "a_0 = 0.005\n",
    "rho_10 = - 0.001/np.log10(a_0)\n",
    "rho_20 = rho_s/4\n",
    "\n",
    "rho = np.linspace(0, rho_s, 100)\n",
    "\n",
    "a = 1.0 - np.exp(-rho / rho_20)\n",
    "\n",
    "# b = a_0 - np.exp(-rho / rho_10)\n",
    "plt.plot(rho, a)\n",
    "# plt.plot(rho, b)\n",
    "\n",
    "print(1.0 - np.exp(-4/ rho_20))\n"
   ]
  },
  {
   "cell_type": "code",
   "execution_count": null,
   "id": "e49e43c0",
   "metadata": {},
   "outputs": [],
   "source": [
    "rho = 0.001\n",
    "\n",
    "a = 1.0 - np.exp(-rho / rho_20)\n",
    "b = a_0 - np.exp(-rho / rho_10)\n",
    "print(a, b, -rho_10 * np.log(a_0))"
   ]
  }
 ],
 "metadata": {
  "kernelspec": {
   "display_name": "Python 3 (ipykernel)",
   "language": "python",
   "name": "python3"
  },
  "language_info": {
   "codemirror_mode": {
    "name": "ipython",
    "version": 3
   },
   "file_extension": ".py",
   "mimetype": "text/x-python",
   "name": "python",
   "nbconvert_exporter": "python",
   "pygments_lexer": "ipython3",
   "version": "3.10.9"
  }
 },
 "nbformat": 4,
 "nbformat_minor": 5
}
